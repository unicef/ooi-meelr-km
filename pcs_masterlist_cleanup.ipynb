{
 "cells": [
  {
   "cell_type": "code",
   "execution_count": 2,
   "metadata": {},
   "outputs": [],
   "source": [
    "# !pip install openpyxl\n",
    "import pandas as pd"
   ]
  },
  {
   "cell_type": "markdown",
   "metadata": {},
   "source": [
    "# Joins"
   ]
  },
  {
   "cell_type": "code",
   "execution_count": 39,
   "metadata": {},
   "outputs": [
    {
     "data": {
      "text/plain": [
       "(238, 10)"
      ]
     },
     "metadata": {},
     "output_type": "display_data"
    },
    {
     "data": {
      "text/plain": [
       "Solution Id             int64\n",
       "Invent Solution Id    float64\n",
       "Solution Name          object\n",
       "Team                   object\n",
       "Channel                object\n",
       "Portfolio Area         object\n",
       "Phase                  object\n",
       "Funding Period         object\n",
       "Start Date             object\n",
       "Exit Date              object\n",
       "dtype: object"
      ]
     },
     "metadata": {},
     "output_type": "display_data"
    },
    {
     "data": {
      "text/plain": [
       "(420, 3)"
      ]
     },
     "metadata": {},
     "output_type": "display_data"
    },
    {
     "data": {
      "text/plain": [
       "Solution Id       int64\n",
       "Solution Name    object\n",
       "Country Name     object\n",
       "dtype: object"
      ]
     },
     "metadata": {},
     "output_type": "display_data"
    },
    {
     "data": {
      "text/plain": [
       "(120, 4)"
      ]
     },
     "metadata": {},
     "output_type": "display_data"
    },
    {
     "data": {
      "text/plain": [
       "Country Id       int64\n",
       "Country Name    object\n",
       "Region Name     object\n",
       "Region Code     object\n",
       "dtype: object"
      ]
     },
     "metadata": {},
     "output_type": "display_data"
    },
    {
     "data": {
      "text/plain": [
       "(58, 12)"
      ]
     },
     "metadata": {},
     "output_type": "display_data"
    },
    {
     "data": {
      "text/plain": [
       "Portfolios                                                                                                                                                    object\n",
       "Solutions Name                                                                                                                                                object\n",
       "SA1/2 phase                                                                                                                                                   object\n",
       "different phase for SA1 and 2?                                                                                                                                object\n",
       "Current phase                                                                                                                                                 object\n",
       "Exit/Re-entry?                                                                                                                                                object\n",
       "In portfolio after 2023 portfolio review?                                                                                                                     object\n",
       "Is this solution newly added in 2023?                                                                                                                         object\n",
       "move to the next phase?                                                                                                                                       object\n",
       "Funding                                                                                                                                                       object\n",
       "catalog                                                                                                                                                       object\n",
       "Countries [Country - Region - People reached] this info is from the latest in INVENT not from the rapid assessment. Keeping it to cross check country info    object\n",
       "dtype: object"
      ]
     },
     "metadata": {},
     "output_type": "display_data"
    },
    {
     "data": {
      "text/plain": [
       "(52, 6)"
      ]
     },
     "metadata": {},
     "output_type": "display_data"
    },
    {
     "data": {
      "text/plain": [
       "Current name                                                                                                   object\n",
       "Link to source document – must be accessible by someone from outside UNICEF\\nTemplate in Template links tab    object\n",
       "Ready for Dion                                                                                                 object\n",
       "Completed by Dion                                                                                              object\n",
       "Link to output\\nTemplate in Template links tab                                                                 object\n",
       "Cover photo identified? (yes/no)                                                                               object\n",
       "dtype: object"
      ]
     },
     "metadata": {},
     "output_type": "display_data"
    },
    {
     "data": {
      "text/plain": [
       "(54, 15)"
      ]
     },
     "metadata": {},
     "output_type": "display_data"
    },
    {
     "data": {
      "text/plain": [
       "ID                                                                        int64\n",
       " INVENT ID                                                                int64\n",
       " INVENT URL                                                              object\n",
       " Name                                                                    object\n",
       " Portfolio(s)                                                            object\n",
       " Phase                                                                   object\n",
       " Country(Region):Reach                                                   object\n",
       "Number of countries                                                       int64\n",
       " Number of regions                                                        int64\n",
       "Global reach                                                              int64\n",
       "1mm+ people reached across multiple countries                              bool\n",
       "1mm+ people reached across multiple countries across multiple regions      bool\n",
       " Open source / Frontier tech                                               bool\n",
       " Learning investment                                                       bool\n",
       " Problem statement(s)                                                    object\n",
       "dtype: object"
      ]
     },
     "metadata": {},
     "output_type": "display_data"
    }
   ],
   "source": [
    "setup1_df = pd.read_excel('./setup.xlsx',sheet_name='1_setup1') # x_setupx were copies from setup_dashboard.xlsx\n",
    "setup2_df = pd.read_excel('./setup.xlsx',sheet_name='2_setup2')\n",
    "setup3_df = pd.read_excel('./setup.xlsx',sheet_name='3_setup3')\n",
    "exitanalysis_df = pd.read_excel('./setup.xlsx',sheet_name='4_exitanalysis')\n",
    "prog_temp_df = pd.read_excel('./setup.xlsx',sheet_name='5_prog&temp')\n",
    "invent_df = pd.read_excel('./setup.xlsx',sheet_name='6_invent')\n",
    "display(setup1_df.shape, setup1_df.dtypes)\n",
    "display(setup2_df.shape, setup2_df.dtypes)\n",
    "display(setup3_df.shape, setup3_df.dtypes)\n",
    "display(exitanalysis_df.shape, exitanalysis_df.dtypes)\n",
    "display(prog_temp_df.shape, prog_temp_df.dtypes)\n",
    "display(invent_df.shape, invent_df.dtypes)"
   ]
  },
  {
   "cell_type": "code",
   "execution_count": 40,
   "metadata": {},
   "outputs": [],
   "source": [
    "#drop columns\n",
    "\n",
    "setup1_df = setup1_df.drop(columns=['Invent Solution Id','Funding Period','Phase'])\n",
    "setup2_df = setup2_df.drop(columns=['Solution Id'])\n",
    "setup3_df = setup3_df.drop(columns=['Country Id','Region Name'])\n",
    "exitanalysis_df = exitanalysis_df.drop(columns=exitanalysis_df.columns[-1])\n",
    "invent_df = invent_df.drop(columns=[' Portfolio(s)',' Phase'])"
   ]
  },
  {
   "cell_type": "code",
   "execution_count": 41,
   "metadata": {},
   "outputs": [
    {
     "name": "stdout",
     "output_type": "stream",
     "text": [
      "Index(['Portfolios', 'Solutions Name', 'SA1/2 phase',\n",
      "       'different phase for SA1 and 2?', 'Current phase', 'Exit/Re-entry?',\n",
      "       'In portfolio after 2023 portfolio review?',\n",
      "       'Is this solution newly added in 2023?', 'move to the next phase?',\n",
      "       'Funding', 'catalog'],\n",
      "      dtype='object')\n",
      "Index(['Current name',\n",
      "       'Link to source document – must be accessible by someone from outside UNICEF\\nTemplate in Template links tab',\n",
      "       'Ready for Dion', 'Completed by Dion ',\n",
      "       'Link to output\\nTemplate in Template links tab',\n",
      "       'Cover photo identified? (yes/no)'],\n",
      "      dtype='object')\n",
      "Index(['ID', ' INVENT ID', ' INVENT URL', ' Name', ' Country(Region):Reach',\n",
      "       'Number of countries', ' Number of regions', 'Global reach',\n",
      "       '1mm+ people reached across multiple countries',\n",
      "       '1mm+ people reached across multiple countries across multiple regions',\n",
      "       ' Open source / Frontier tech', ' Learning investment',\n",
      "       ' Problem statement(s)'],\n",
      "      dtype='object')\n"
     ]
    }
   ],
   "source": [
    "# rename columns\n",
    "\n",
    "print(exitanalysis_df.columns)\n",
    "print(prog_temp_df.columns)\n",
    "print(invent_df.columns)\n",
    "exitanalysis_df.columns =['a','Solution Name','c','d','e','f','g','h','i','j','k']\n",
    "prog_temp_df.columns =['Solution Name','b','c','d','e','f']\n",
    "invent_df.columns =['a','b','c','Solution Name','e','f','g','h','i','j','k','l','m']"
   ]
  },
  {
   "cell_type": "code",
   "execution_count": 42,
   "metadata": {},
   "outputs": [
    {
     "name": "stdout",
     "output_type": "stream",
     "text": [
      "(208, 9) Solution Id        int64\n",
      "Solution Name     object\n",
      "Team              object\n",
      "Channel           object\n",
      "Portfolio Area    object\n",
      "Start Date        object\n",
      "Exit Date         object\n",
      "Country Name      object\n",
      "Region Code       object\n",
      "dtype: object    Solution Id                              Solution Name Team    Channel  \\\n",
      "0            1                         Bio-hack my World   PCS  Portfolio   \n",
      "1            2                                 WasteX Lab  PCS  Portfolio   \n",
      "2            3       Youth Environment Living Labs (YELL)  PCS  Portfolio   \n",
      "3            4  Climate Policies for Children - Dashboard  PCS  Portfolio   \n",
      "4            4  Climate Policies for Children - Dashboard  PCS  Portfolio   \n",
      "\n",
      "   Portfolio Area Start Date Exit Date     Country Name Region Code  \n",
      "0  Climate Change   1/1/2022  1/1/2099  North Macedonia         ECA  \n",
      "1  Climate Change   1/1/2022  1/1/2099         Tanzania         NaN  \n",
      "2  Climate Change   1/1/2022  1/1/2099         Malaysia         NaN  \n",
      "3  Climate Change   1/1/2022  1/1/2099          Equador         NaN  \n",
      "4  Climate Change   1/1/2022  1/1/2099           Turkey         NaN  \n"
     ]
    }
   ],
   "source": [
    "# join country and region df\n",
    "\n",
    "setup23_df = setup2_df.merge(setup3_df,how='left',left_on='Country Name',right_on='Country Name')\n",
    "# print(setup23_df.dtypes,setup23_df.head())\n",
    "\n",
    "# join solutions with countries+regions\n",
    "setup123_df = setup1_df.merge(setup23_df,how='left',left_on='Solution Name',right_on='Solution Name')\n",
    "# print(setup123_df.dtypes,setup23_df.head())\n",
    "\n",
    "#select only PCS Portfolio\n",
    "# setup123_df = setup123_df[setup123_df['Team'].str.contains('PCS')==True] # a few portflios have transitioned into PCS but are still have old team names\n",
    "setup123_df = setup123_df[setup123_df['Channel'].str.contains('Portfolio')==True]\n",
    "print(setup123_df.shape,setup123_df.dtypes,setup123_df.head())\n"
   ]
  },
  {
   "cell_type": "code",
   "execution_count": 43,
   "metadata": {},
   "outputs": [
    {
     "name": "stdout",
     "output_type": "stream",
     "text": [
      "exitanalysis_df:\n",
      "total rows: (58, 11) null rows: 0\n",
      "After dropna total rows : (58, 11) null rows: 0\n",
      "Empty DataFrame\n",
      "Columns: [a, Solution Name, c, d, e, f, g, h, i, j, k]\n",
      "Index: []\n",
      "After drop_duplicates total rows : (58, 11) \n",
      "prog_temp_df:\n",
      "total rows: (52, 6) null rows: 0\n",
      "After dropna total rows : (52, 6) null rows: 0\n",
      "Empty DataFrame\n",
      "Columns: [Solution Name, b, c, d, e, f]\n",
      "Index: []\n",
      "After drop_duplicates total rows : (52, 6) \n",
      "invent_df:\n",
      "total rows: (54, 13) null rows: 0\n",
      "After dropna total rows : (54, 13) null rows: 0\n",
      "Empty DataFrame\n",
      "Columns: [a, b, c, Solution Name, e, f, g, h, i, j, k, l, m]\n",
      "Index: []\n",
      "After drop_duplicates total rows : (54, 13) \n"
     ]
    }
   ],
   "source": [
    "# Drop empty and duplicte rows\n",
    "\n",
    "print('exitanalysis_df:')\n",
    "print(f'total rows: {exitanalysis_df.shape} null rows: {len(exitanalysis_df[exitanalysis_df.isnull().all(axis=1)])}')\n",
    "exitanalysis_df.dropna(axis=0,how='all',inplace=True)\n",
    "print(f'After dropna total rows : {exitanalysis_df.shape} null rows: {len(exitanalysis_df[exitanalysis_df.isnull().all(axis=1)])}')\n",
    "print(exitanalysis_df[exitanalysis_df.duplicated(keep='first')])\n",
    "exitanalysis_df.drop_duplicates(keep='first',inplace=True)\n",
    "print(f'After drop_duplicates total rows : {exitanalysis_df.shape} ')\n",
    "\n",
    "\n",
    "print('prog_temp_df:')\n",
    "print(f'total rows: {prog_temp_df.shape} null rows: {len(prog_temp_df[prog_temp_df.isnull().all(axis=1)])}')\n",
    "prog_temp_df.dropna(axis=0,how='all',inplace=True)\n",
    "print(f'After dropna total rows : {prog_temp_df.shape} null rows: {len(prog_temp_df[prog_temp_df.isnull().all(axis=1)])}')\n",
    "print(prog_temp_df[prog_temp_df.duplicated(keep='first')])\n",
    "prog_temp_df.drop_duplicates(keep='first',inplace=True)\n",
    "print(f'After drop_duplicates total rows : {prog_temp_df.shape} ')\n",
    "\n",
    "print('invent_df:')\n",
    "print(f'total rows: {invent_df.shape} null rows: {len(invent_df[invent_df.isnull().all(axis=1)])}')\n",
    "prog_temp_df.dropna(axis=0,how='all',inplace=True)\n",
    "print(f'After dropna total rows : {invent_df.shape} null rows: {len(invent_df[invent_df.isnull().all(axis=1)])}')\n",
    "print(invent_df[invent_df.duplicated(keep='first')])\n",
    "prog_temp_df.drop_duplicates(keep='first',inplace=True)\n",
    "print(f'After drop_duplicates total rows : {invent_df.shape} ')"
   ]
  },
  {
   "cell_type": "code",
   "execution_count": 44,
   "metadata": {},
   "outputs": [
    {
     "name": "stdout",
     "output_type": "stream",
     "text": [
      "exit_progtemp_df: \n",
      "(58, 18) a                         object\n",
      "Solution Name_exit        object\n",
      "c_exit                    object\n",
      "d_exit                    object\n",
      "e_exit                    object\n",
      "f_exit                    object\n",
      "g                         object\n",
      "h                         object\n",
      "i                         object\n",
      "j                         object\n",
      "k                         object\n",
      "processed_solname         object\n",
      "Solution Name_progtemp    object\n",
      "b                         object\n",
      "c_progtemp                object\n",
      "d_progtemp                object\n",
      "e_progtemp                object\n",
      "f_progtemp                object\n",
      "dtype: object                           a  \\\n",
      "45  Maternal & Child Health   \n",
      "8            Climate Change   \n",
      "32             Humanitarian   \n",
      "52  Maternal & Child Health   \n",
      "24  Maternal & Child Health   \n",
      "\n",
      "                                   Solution Name_exit      c_exit d_exit  \\\n",
      "45    SPRINT (Scaling Pneumonia Response Innovations)       Pilot    NaN   \n",
      "8   Building children’s future through recycled pl...       Pilot    NaN   \n",
      "32  Localization of humanitarian capacity by anyon...         NaN    NaN   \n",
      "52                                             U-test  Accelerate    NaN   \n",
      "24                      HIV Point-of-Care Diagnostics       Pilot    NaN   \n",
      "\n",
      "        e_exit                  f_exit    g    h    i    j    k  \\\n",
      "45         NaN           Positive Exit   No  NaN  NaN  SA2  Yes   \n",
      "8          NaN                   Exit    No  NaN  NaN  SA1  NaN   \n",
      "32       Pilot      New entry at pilot  Yes  Yes  NaN  NaN  NaN   \n",
      "52  Accelerate  Re-entry at Accelerate  Yes  NaN  NaN  SA2  Yes   \n",
      "24       Pilot                    Exit   No  NaN  NaN  SA1  NaN   \n",
      "\n",
      "                                    processed_solname  \\\n",
      "45    sprint (scaling pneumonia response innovations)   \n",
      "8   building children’s future through recycled pl...   \n",
      "32  localization of humanitarian capacity by anyon...   \n",
      "52                                             u-test   \n",
      "24                      hiv point-of-care diagnostics   \n",
      "\n",
      "                             Solution Name_progtemp  \\\n",
      "45  SPRINT (Scaling Pneumonia Response Innovations)   \n",
      "8                                               NaN   \n",
      "32                                              NaN   \n",
      "52                                           U-Test   \n",
      "24                                              NaN   \n",
      "\n",
      "                                                    b c_progtemp d_progtemp  \\\n",
      "45  Maternal & Child Health - SPRINT (Scaling Pneu...        Yes        Yes   \n",
      "8                                                 NaN        NaN        NaN   \n",
      "32                                                NaN        NaN        NaN   \n",
      "52              Maternal & Child Health - U-Test.docx        Yes        Yes   \n",
      "24                                                NaN        NaN        NaN   \n",
      "\n",
      "                                           e_progtemp f_progtemp  \n",
      "45  https://docs.google.com/document/d/1HAq82V578f...        Yes  \n",
      "8                                                 NaN        NaN  \n",
      "32                                                NaN        NaN  \n",
      "52  https://docs.google.com/document/d/1bnzvYv5mRo...        Yes  \n",
      "24                                                NaN        NaN  \n",
      "exitprogtemp_invent_df: \n",
      "(58, 32) a_exitprogtemp             object\n",
      "Solution Name_exit         object\n",
      "c_exit                     object\n",
      "d_exit                     object\n",
      "e_exit                     object\n",
      "f_exit                     object\n",
      "g_exitprogtemp             object\n",
      "h_exitprogtemp             object\n",
      "i_exitprogtemp             object\n",
      "j_exitprogtemp             object\n",
      "k_exitprogtemp             object\n",
      "processed_solname          object\n",
      "Solution Name_progtemp     object\n",
      "b_exitprogtemp             object\n",
      "c_progtemp                 object\n",
      "d_progtemp                 object\n",
      "e_progtemp                 object\n",
      "f_progtemp                 object\n",
      "a_invent                  float64\n",
      "b_invent                  float64\n",
      "c                          object\n",
      "Solution Name              object\n",
      "e                          object\n",
      "f                         float64\n",
      "g_invent                  float64\n",
      "h_invent                  float64\n",
      "i_invent                   object\n",
      "j_invent                   object\n",
      "k_invent                   object\n",
      "l                          object\n",
      "m                          object\n",
      "ID                          int64\n",
      "dtype: object              a_exitprogtemp  \\\n",
      "11             Humanitarian   \n",
      "24  Maternal & Child Health   \n",
      "50                    Youth   \n",
      "35                    MHPSW   \n",
      "21          Gender Equality   \n",
      "\n",
      "                                   Solution Name_exit      c_exit d_exit  \\\n",
      "11  Commercial Microwave Links for early warning s...         NaN    NaN   \n",
      "24                      HIV Point-of-Care Diagnostics       Pilot    NaN   \n",
      "50  UPSHIFT / The Adolescent Skills & Employabilit...       Scale    NaN   \n",
      "35                                   My Childline App  Accelerate    NaN   \n",
      "21                                       Girls Got IT       Pilot    NaN   \n",
      "\n",
      "   e_exit              f_exit g_exitprogtemp h_exitprogtemp i_exitprogtemp  \\\n",
      "11  Pilot  New entry at pilot            Yes            Yes            NaN   \n",
      "24  Pilot                Exit             No            NaN            NaN   \n",
      "50  Scale   Re-entry to Scale            Yes            NaN            NaN   \n",
      "35    NaN                Exit             No            NaN            NaN   \n",
      "21    NaN       Positive Exit             No            NaN            NaN   \n",
      "\n",
      "   j_exitprogtemp  ...                              e    f g_invent h_invent  \\\n",
      "11            NaN  ...                            NaN  NaN      NaN      NaN   \n",
      "24            SA1  ...                            NaN  NaN      NaN      NaN   \n",
      "50            SA2  ...                            NaN  NaN      NaN      NaN   \n",
      "35            SA1  ...                            NaN  NaN      NaN      NaN   \n",
      "21            SA2  ...  Republic Of Moldova (ECAR): 0  1.0      1.0      0.0   \n",
      "\n",
      "   i_invent j_invent k_invent      l  \\\n",
      "11      NaN      NaN      NaN    NaN   \n",
      "24      NaN      NaN      NaN    NaN   \n",
      "50      NaN      NaN      NaN    NaN   \n",
      "35      NaN      NaN      NaN    NaN   \n",
      "21    False    False    False  False   \n",
      "\n",
      "                                                    m  ID  \n",
      "11                                                NaN  12  \n",
      "24                                                NaN  25  \n",
      "50                                                NaN  51  \n",
      "35                                                NaN  36  \n",
      "21  1. Girls, especially adolescent girls, have le...  22  \n",
      "\n",
      "[5 rows x 32 columns]\n"
     ]
    }
   ],
   "source": [
    "#create key used for joining\n",
    "\n",
    "def preprocess_name(x: str):\n",
    "    # removing leading and trailing spaces in solution names\n",
    "    x = x.lower()\n",
    "    x = x.strip()\n",
    "    return x\n",
    "\n",
    "\n",
    "setup1_df['processed_solname'] = setup1_df['Solution Name'].apply(lambda x: preprocess_name(x))\n",
    "setup123_df['processed_solname'] = setup123_df['Solution Name'].apply(lambda x: preprocess_name(x))\n",
    "exitanalysis_df['processed_solname'] = exitanalysis_df['Solution Name'].apply(lambda x: preprocess_name(x))\n",
    "prog_temp_df['processed_solname'] = prog_temp_df['Solution Name'].apply(lambda x: preprocess_name(x))\n",
    "invent_df['processed_solname'] = invent_df['Solution Name'].apply(lambda x: preprocess_name(x))\n",
    "\n",
    "\n",
    "#join exit analysis and prog&temp\n",
    "print('exit_progtemp_df: ')\n",
    "exit_progtemp_df = exitanalysis_df.merge(prog_temp_df,how='left',left_on='processed_solname',right_on='processed_solname',suffixes=['_exit','_progtemp'])\n",
    "print(exit_progtemp_df.shape,exit_progtemp_df.dtypes,exit_progtemp_df.sample(5))\n",
    "\n",
    "#join prev result with invent\n",
    "print('exitprogtemp_invent_df: ')\n",
    "exitprogtemp_invent_df = exit_progtemp_df.merge(invent_df,how='left',left_on='processed_solname',right_on='processed_solname',suffixes=['_exitprogtemp','_invent'])\n",
    "exitprogtemp_invent_df['ID'] = exitprogtemp_invent_df.index + 1\n",
    "print(exitprogtemp_invent_df.shape,exitprogtemp_invent_df.dtypes,exitprogtemp_invent_df.sample(5))"
   ]
  },
  {
   "cell_type": "code",
   "execution_count": 45,
   "metadata": {},
   "outputs": [
    {
     "name": "stdout",
     "output_type": "stream",
     "text": [
      "exitprogtemp_invent_df:\n",
      "total rows: (58, 32) null rows: 0\n",
      "After dropna total rows : (58, 32) null rows: 0\n",
      "Empty DataFrame\n",
      "Columns: [a_exitprogtemp, Solution Name_exit, c_exit, d_exit, e_exit, f_exit, g_exitprogtemp, h_exitprogtemp, i_exitprogtemp, j_exitprogtemp, k_exitprogtemp, processed_solname, Solution Name_progtemp, b_exitprogtemp, c_progtemp, d_progtemp, e_progtemp, f_progtemp, a_invent, b_invent, c, Solution Name, e, f, g_invent, h_invent, i_invent, j_invent, k_invent, l, m, ID]\n",
      "Index: []\n",
      "\n",
      "[0 rows x 32 columns]\n",
      "After drop_duplicates total rows : (58, 32) \n"
     ]
    }
   ],
   "source": [
    "#remove null and duplicate rows again\n",
    "print('exitprogtemp_invent_df:')\n",
    "print(f'total rows: {exitprogtemp_invent_df.shape} null rows: {len(exitprogtemp_invent_df[exitprogtemp_invent_df.isnull().all(axis=1)])}')\n",
    "exitprogtemp_invent_df.dropna(axis=0,how='all',inplace=True)\n",
    "print(f'After dropna total rows : {exitprogtemp_invent_df.shape} null rows: {len(exitprogtemp_invent_df[exitprogtemp_invent_df.isnull().all(axis=1)])}')\n",
    "print(exitprogtemp_invent_df[exitprogtemp_invent_df.duplicated(keep='first')])\n",
    "exitprogtemp_invent_df.drop_duplicates(keep='first',inplace=True)\n",
    "print(f'After drop_duplicates total rows : {exitprogtemp_invent_df.shape} ')"
   ]
  },
  {
   "cell_type": "code",
   "execution_count": 46,
   "metadata": {},
   "outputs": [
    {
     "name": "stdout",
     "output_type": "stream",
     "text": [
      "Index(['a_exitprogtemp', 'Solution Name_exit', 'c_exit', 'd_exit', 'e_exit',\n",
      "       'f_exit', 'g_exitprogtemp', 'h_exitprogtemp', 'i_exitprogtemp',\n",
      "       'j_exitprogtemp', 'k_exitprogtemp', 'processed_solname',\n",
      "       'Solution Name_progtemp', 'b_exitprogtemp', 'c_progtemp', 'd_progtemp',\n",
      "       'e_progtemp', 'f_progtemp', 'a_invent', 'b_invent', 'c',\n",
      "       'Solution Name', 'e', 'f', 'g_invent', 'h_invent', 'i_invent',\n",
      "       'j_invent', 'k_invent', 'l', 'm', 'ID'],\n",
      "      dtype='object')\n",
      "(205, 41) Index(['a_exitprogtemp', 'Solution Name_exit', 'c_exit', 'd_exit', 'e_exit',\n",
      "       'f_exit', 'g_exitprogtemp', 'h_exitprogtemp', 'i_exitprogtemp',\n",
      "       'j_exitprogtemp', 'k_exitprogtemp', 'processed_solname',\n",
      "       'Solution Name_progtemp', 'b_exitprogtemp', 'c_progtemp', 'd_progtemp',\n",
      "       'e_progtemp', 'f_progtemp', 'a_invent', 'b_invent', 'c',\n",
      "       'Solution Name_exitprogtempinvent', 'e', 'f', 'g_invent', 'h_invent',\n",
      "       'i_invent', 'j_invent', 'k_invent', 'l', 'm', 'ID', 'Solution Id',\n",
      "       'Solution Name_setup123', 'Team', 'Channel', 'Portfolio Area',\n",
      "       'Start Date', 'Exit Date', 'Country Name', 'Region Code'],\n",
      "      dtype='object')\n",
      "(59, 39) Index(['a_exitprogtemp', 'Solution Name_exit', 'c_exit', 'd_exit', 'e_exit',\n",
      "       'f_exit', 'g_exitprogtemp', 'h_exitprogtemp', 'i_exitprogtemp',\n",
      "       'j_exitprogtemp', 'k_exitprogtemp', 'processed_solname',\n",
      "       'Solution Name_progtemp', 'b_exitprogtemp', 'c_progtemp', 'd_progtemp',\n",
      "       'e_progtemp', 'f_progtemp', 'a_invent', 'b_invent', 'c',\n",
      "       'Solution Name_exitprogtempinvent', 'e', 'f', 'g_invent', 'h_invent',\n",
      "       'i_invent', 'j_invent', 'k_invent', 'l', 'm', 'ID', 'Solution Id',\n",
      "       'Solution Name_setup1', 'Team', 'Channel', 'Portfolio Area',\n",
      "       'Start Date', 'Exit Date'],\n",
      "      dtype='object')\n"
     ]
    }
   ],
   "source": [
    "#join for final tables. \n",
    "\n",
    "print(exitprogtemp_invent_df.columns)\n",
    "pcs_country_df = exitprogtemp_invent_df.merge(setup123_df,how='left',left_on='processed_solname',right_on='processed_solname',suffixes=['_exitprogtempinvent','_setup123'])\n",
    "print(pcs_country_df.shape,pcs_country_df.columns) \n",
    "\n",
    "pcs_sol_df = exitprogtemp_invent_df.merge(setup1_df,how='left',left_on='processed_solname',right_on='processed_solname',suffixes=['_exitprogtempinvent','_setup1'])\n",
    "print(pcs_sol_df.shape,pcs_sol_df.columns)\n"
   ]
  },
  {
   "cell_type": "markdown",
   "metadata": {},
   "source": [
    "Observations:\n",
    "* should have been left join but there are solutions with no matching names. For now, did outer join. Needs to be resolved.\n",
    "* DPG projects are repeated too many times. "
   ]
  },
  {
   "cell_type": "markdown",
   "metadata": {},
   "source": [
    "# EDA\n"
   ]
  },
  {
   "cell_type": "code",
   "execution_count": 100,
   "metadata": {},
   "outputs": [
    {
     "name": "stdout",
     "output_type": "stream",
     "text": [
      "Sols IN prog_temp and NOT IN exit analysis: 27\n",
      "Sols IN invent and NOT IN exit analysis: 24\n"
     ]
    },
    {
     "data": {
      "text/html": [
       "<div>\n",
       "<style scoped>\n",
       "    .dataframe tbody tr th:only-of-type {\n",
       "        vertical-align: middle;\n",
       "    }\n",
       "\n",
       "    .dataframe tbody tr th {\n",
       "        vertical-align: top;\n",
       "    }\n",
       "\n",
       "    .dataframe thead th {\n",
       "        text-align: right;\n",
       "    }\n",
       "</style>\n",
       "<table border=\"1\" class=\"dataframe\">\n",
       "  <thead>\n",
       "    <tr style=\"text-align: right;\">\n",
       "      <th></th>\n",
       "      <th>ID</th>\n",
       "      <th>Solution Name</th>\n",
       "      <th>Alias Solution Name</th>\n",
       "    </tr>\n",
       "  </thead>\n",
       "  <tbody>\n",
       "    <tr>\n",
       "      <th>54</th>\n",
       "      <td>54</td>\n",
       "      <td>Voices of Change</td>\n",
       "      <td></td>\n",
       "    </tr>\n",
       "    <tr>\n",
       "      <th>55</th>\n",
       "      <td>55</td>\n",
       "      <td>WasteX Lab</td>\n",
       "      <td></td>\n",
       "    </tr>\n",
       "    <tr>\n",
       "      <th>56</th>\n",
       "      <td>56</td>\n",
       "      <td>YOMA</td>\n",
       "      <td></td>\n",
       "    </tr>\n",
       "    <tr>\n",
       "      <th>57</th>\n",
       "      <td>57</td>\n",
       "      <td>Youth Environment Living Labs (YELL)</td>\n",
       "      <td></td>\n",
       "    </tr>\n",
       "    <tr>\n",
       "      <th>58</th>\n",
       "      <td>58</td>\n",
       "      <td>Youth for Climate and Clean Air</td>\n",
       "      <td>Youth Engagement for Improved Air Quality in ...</td>\n",
       "    </tr>\n",
       "  </tbody>\n",
       "</table>\n",
       "</div>"
      ],
      "text/plain": [
       "    ID                         Solution Name  \\\n",
       "54  54                      Voices of Change   \n",
       "55  55                            WasteX Lab   \n",
       "56  56                                  YOMA   \n",
       "57  57  Youth Environment Living Labs (YELL)   \n",
       "58  58       Youth for Climate and Clean Air   \n",
       "\n",
       "                                  Alias Solution Name  \n",
       "54                                                     \n",
       "55                                                     \n",
       "56                                                     \n",
       "57                                                     \n",
       "58   Youth Engagement for Improved Air Quality in ...  "
      ]
     },
     "metadata": {},
     "output_type": "display_data"
    },
    {
     "name": "stdout",
     "output_type": "stream",
     "text": [
      "   ID                                          Countries\n",
      "0   1                                       South Africa\n",
      "1   2  Croatia ; Montenegro ; Serbia ; North Macedoni...\n",
      "2   3  Kyrgyzstan ; Montenegro ; Uzbekistan ; Bosnia ...\n",
      "3   4        Kazakhstan ; Tajikistan ; Belarus ; Ukraine\n",
      "4   5                                    North Macedonia\n"
     ]
    }
   ],
   "source": [
    "# removing leading and trailing spaces in solution names\n",
    "def preprocess_name(x: str):\n",
    "    x = x.strip()\n",
    "    x = x.lower()\n",
    "\n",
    "    return x\n",
    "\n",
    "\n",
    "eda_exitanalysis_df = exitanalysis_df.copy(deep=True)\n",
    "eda_prog_temp_df = prog_temp_df.copy(deep=True)\n",
    "eda_invent_df = invent_df.copy(deep=True)\n",
    "eda_exitanalysis_df['Solution Name'] = eda_exitanalysis_df['Solution Name'].apply(lambda x: preprocess_name(x))\n",
    "eda_prog_temp_df['Solution Name'] = eda_prog_temp_df['Solution Name'].apply(lambda x: preprocess_name(x))\n",
    "eda_invent_df['Solution Name'] = eda_invent_df['Solution Name'].apply(lambda x: preprocess_name(x))\n",
    "\n",
    "\n",
    "# solutions in prog&temp but not in exist_analysis\n",
    "eda_exit_progtemp_df = eda_exitanalysis_df.merge(eda_prog_temp_df,how='right', indicator= True, left_on='Solution Name',right_on='Solution Name',suffixes=['_exit','_progtemp'])\n",
    "\n",
    "print(f\"Sols IN prog_temp and NOT IN exit analysis: {eda_exit_progtemp_df[eda_exit_progtemp_df['_merge']=='right_only'].shape[0]}\")\n",
    "# display(eda_exit_progtemp_df[eda_exit_progtemp_df['_merge']=='right_only'][['Solution Name']])\n",
    "\n",
    "\n",
    "eda_exit_invent_df = eda_exitanalysis_df.merge(eda_invent_df,how='right', indicator= True, left_on='Solution Name',right_on='Solution Name',suffixes=['_exit','_invent'])\n",
    "print(f\"Sols IN invent and NOT IN exit analysis: {eda_exit_invent_df[eda_exit_invent_df['_merge']=='right_only'].shape[0]}\")\n",
    "# display(eda_exit_invent_df[eda_exit_invent_df['_merge']=='right_only'][['Solution Name']])\n",
    "\n",
    "\n",
    "# splitting solution names \n",
    "def split_names(x: str):\n",
    "    old_name_list,  new_name_list= [],[] \n",
    "    old_name_list = x.split('/')\n",
    "    new_name_list.append(old_name_list[0].strip())\n",
    "    new_name_list.append('/'.join(old_name_list[1:]))\n",
    "    return new_name_list\n",
    "                        \n",
    "eda_pcs_sol_df = pcs_sol_df.copy(deep=True)\n",
    "eda_pcs_name_df = pd.DataFrame()\n",
    "eda_pcs_name_df['ID'] = eda_pcs_sol_df['ID']\n",
    "eda_pcs_name_df['name_list'] = eda_pcs_sol_df['Solution Name_exit'].apply(lambda x: split_names(x))\n",
    "eda_pcs_name_df['Solution Name'] = eda_pcs_name_df['name_list'].apply(lambda x: x[0])\n",
    "eda_pcs_name_df['Alias Solution Name'] = eda_pcs_name_df['name_list'].apply(lambda x: x[1])\n",
    "eda_pcs_name_df.drop(columns=['name_list'], inplace=True)\n",
    "display(eda_pcs_name_df.tail())\n",
    "\n",
    "# adding country list column in pcs_sol_df\n",
    "eda_pcs_country_df = pcs_country_df.copy(deep=True)\n",
    "eda_pcs_country_df['Country Name'] = eda_pcs_country_df['Country Name'].astype('string')\n",
    "eda_pcs_country_df['Country Name'].fillna('',inplace=True)\n",
    "eda_temp_pcs_country_df  = eda_pcs_country_df[['ID','Country Name']].groupby('ID')['Country Name'].apply(lambda x: ' ; '.join(x)).reset_index()\n",
    "eda_pcs_sol_df =eda_pcs_sol_df.merge(eda_temp_pcs_country_df, how='inner', on='ID')\n",
    "eda_pcs_sol_df.rename(columns={'Country Name':'Countries'}, inplace=True)\n",
    "\n",
    "print(eda_pcs_sol_df[['ID','Countries']].head(5))\n"
   ]
  },
  {
   "cell_type": "markdown",
   "metadata": {},
   "source": [
    "# Cleaning"
   ]
  },
  {
   "cell_type": "code",
   "execution_count": 101,
   "metadata": {},
   "outputs": [
    {
     "name": "stdout",
     "output_type": "stream",
     "text": [
      "['exitanalysis_Porfolio', 'Solution Name', 'exitanalysis_SA12', 'exitanalysis_diffphaseforSA12', 'exitanalysis_currentphase', 'exitanalysis_exitreentry', 'exitanalysis_inportfolioafter', 'exitanalysis_isthissolutionnewly', 'exitanalysis_movetonextphase', 'exitanalysis_funding', 'exitanalysis_catalog', 'progtemp_linktosourcedoc', 'progtemp_readyfordion', 'progtemp_completedbydion', 'progtemp_linktooutputtemplate', 'progtemp_coverphoto', 'invent_id', 'invent_inventid', 'invent_inventurl', 'invent_globalreach', 'invent_1mmpeople', 'invent_1mmpeopleallregions', 'invent_opensource', 'invent_learninginventment', 'invent_problemstatement', 'ID', 'OLAP Solution Id', 'Start Date', 'Exit Date', 'Countries']\n",
      "['exitanalysis_Porfolio', 'Solution Name', 'exitanalysis_SA12', 'exitanalysis_diffphaseforSA12', 'exitanalysis_currentphase', 'exitanalysis_exitreentry', 'exitanalysis_inportfolioafter', 'exitanalysis_isthissolutionnewly', 'exitanalysis_movetonextphase', 'exitanalysis_funding', 'exitanalysis_catalog', 'progtemp_linktosourcedoc', 'progtemp_readyfordion', 'progtemp_completedbydion', 'progtemp_linktooutputtemplate', 'progtemp_coverphoto', 'invent_id', 'invent_inventid', 'invent_inventurl', 'invent_globalreach', 'invent_1mmpeople', 'invent_1mmpeopleallregions', 'invent_opensource', 'invent_learninginventment', 'invent_problemstatement', 'ID', 'OLAP Solution Id', 'Solution Name_setup123', 'Start Date', 'Exit Date', 'Country Name', 'Region Code', 'Countries']\n"
     ]
    }
   ],
   "source": [
    "# adding country list column in pcs_sol_df\n",
    "\n",
    "pcs_country_df['Country Name'] = pcs_country_df['Country Name'].astype('string')\n",
    "pcs_country_df['Country Name'].fillna('',inplace=True)\n",
    "temp_pcs_country_df  = pcs_country_df[['ID','Country Name']].groupby('ID')['Country Name'].apply(lambda x: ' ; '.join(x)).reset_index()\n",
    "\n",
    "pcs_sol_df =pcs_sol_df.merge(temp_pcs_country_df, how='inner', on='ID')\n",
    "pcs_sol_df.rename(columns={'Country Name':'Countries'}, inplace=True)\n",
    "\n",
    "#renaming columns to py columns\n",
    "\n",
    "new_py_cols = { 'Solution Id' : 'OLAP Solution Id', #giving xlsx name\n",
    "            'Solution Name_exit': \"Solution Name\", #giving xlsx name\n",
    "            'a_exitprogtemp': \"exitanalysis_Porfolio\",\n",
    "            'c_exit': \"exitanalysis_SA12\",\n",
    "            'd_exit': \"exitanalysis_diffphaseforSA12\", \n",
    "            'e_exit': \"exitanalysis_currentphase\",\n",
    "            'f_exit': \"exitanalysis_exitreentry\", \n",
    "            'g_exitprogtemp': \"exitanalysis_inportfolioafter\", \n",
    "            'h_exitprogtemp': \"exitanalysis_isthissolutionnewly\", \n",
    "            'i_exitprogtemp': \"exitanalysis_movetonextphase\",\n",
    "            'j_exitprogtemp': \"exitanalysis_funding\", \n",
    "            'k_exitprogtemp': \"exitanalysis_catalog\", \n",
    "            'b_exitprogtemp': \"progtemp_linktosourcedoc\", \n",
    "            'c_progtemp': \"progtemp_readyfordion\", \n",
    "            'd_progtemp': \"progtemp_completedbydion\",\n",
    "            'e_progtemp': \"progtemp_linktooutputtemplate\", \n",
    "            'f_progtemp': \"progtemp_coverphoto\", \n",
    "            'a_invent': \"invent_id\", \n",
    "            'b_invent': \"invent_inventid\", \n",
    "            'c': \"invent_inventurl\", \n",
    "            'e': \"invent_country\", \n",
    "            'f': \"invent_numberofcountries\",\n",
    "            'g_invent': \"invent_numberofregions\" , \n",
    "            'h_invent': \"invent_globalreach\" , \n",
    "            'i_invent': \"invent_1mmpeople\" , \n",
    "            'j_invent': \"invent_1mmpeopleallregions\" , \n",
    "            'k_invent': \"invent_opensource\" , \n",
    "            'l': \"invent_learninginventment\" , \n",
    "            'm': \"invent_problemstatement\" ,}\n",
    "\n",
    "\n",
    "pcs_sol_df.rename(columns=new_py_cols, inplace=True)\n",
    "pcs_country_df.rename(columns=new_py_cols, inplace=True)\n",
    "\n",
    "#dropping columns\n",
    "\n",
    "pcs_sol_df = pcs_sol_df.drop(columns=['processed_solname','Solution Name_progtemp','Solution Name_exitprogtempinvent',\n",
    "                                      'Solution Name_setup1','Team','Channel','Portfolio Area','invent_country', 'invent_numberofcountries', \n",
    "                                      'invent_numberofregions'])\n",
    "pcs_country_df = pcs_country_df.drop(columns=['processed_solname','Solution Name_progtemp','Solution Name_exitprogtempinvent',\n",
    "                                            'Team','Channel','Portfolio Area','invent_country', 'invent_numberofcountries',\n",
    "                                            'invent_numberofregions'])\n",
    "\n",
    "#reordering columns\n",
    "\n",
    "pcs_sol_cols = pcs_sol_df.columns.tolist()\n",
    "pcs_country_cols = pcs_country_df.columns.tolist()\n",
    "\n",
    "print(pcs_sol_cols)\n",
    "print(pcs_country_cols)\n",
    "\n",
    "pcs_sol_df  = pcs_sol_df[['ID', 'exitanalysis_Porfolio', 'Solution Name', 'Countries', 'exitanalysis_funding', 'exitanalysis_SA12', \n",
    "                          'exitanalysis_diffphaseforSA12', 'exitanalysis_currentphase', 'Start Date', 'Exit Date', \n",
    "                          'exitanalysis_exitreentry', 'exitanalysis_inportfolioafter', 'exitanalysis_isthissolutionnewly', \n",
    "                          'exitanalysis_movetonextphase', 'exitanalysis_catalog', 'progtemp_linktosourcedoc', 'progtemp_readyfordion', \n",
    "                          'progtemp_completedbydion', 'progtemp_linktooutputtemplate', 'progtemp_coverphoto', 'invent_id', \n",
    "                          'invent_inventid', 'invent_inventurl', 'invent_globalreach', 'invent_1mmpeople', \n",
    "                          'invent_1mmpeopleallregions', 'invent_opensource', 'invent_learninginventment', 'invent_problemstatement',\n",
    "                          'OLAP Solution Id']]\n",
    "\n",
    "pcs_country_df = pcs_country_df[['ID', 'exitanalysis_Porfolio', 'Solution Name', 'Country Name', 'Region Code', \n",
    "                                 'exitanalysis_funding', 'exitanalysis_SA12', 'exitanalysis_diffphaseforSA12', 'exitanalysis_currentphase',\n",
    "                                   'Start Date', 'Exit Date', 'exitanalysis_exitreentry', 'exitanalysis_inportfolioafter', \n",
    "                                   'exitanalysis_isthissolutionnewly', 'exitanalysis_movetonextphase', 'exitanalysis_catalog', \n",
    "                                   'progtemp_linktosourcedoc', 'progtemp_readyfordion', 'progtemp_completedbydion', 'progtemp_linktooutputtemplate', \n",
    "                                   'progtemp_coverphoto', 'invent_id', 'invent_inventid', 'invent_inventurl', 'invent_globalreach', \n",
    "                                   'invent_1mmpeople', 'invent_1mmpeopleallregions', 'invent_opensource', 'invent_learninginventment', \n",
    "                                   'invent_problemstatement','OLAP Solution Id']]\n",
    "\n",
    "#renmaing py columns to xlsx columns\n",
    "\n",
    "new_xlsx_cols = { 'Solution Id' : 'OLAP Solution Id',\n",
    "            \"exitanalysis_Porfolio\": \"Portfolios\",\n",
    "            \"exitanalysis_SA12\": \"SA1/2 phase\",\n",
    "            \"exitanalysis_diffphaseforSA12\": \"different phase for SA1 and 2?\", \n",
    "            \"exitanalysis_currentphase\": \"Current phase\",\n",
    "            \"exitanalysis_exitreentry\": \"Exit/Re-entry?\", \n",
    "            \"exitanalysis_inportfolioafter\": \"In portfolio after 2023 portfolio review?\", \n",
    "            \"exitanalysis_isthissolutionnewly\": \"Is this solution newly added in 2023?\", \n",
    "            \"exitanalysis_movetonextphase\": \"move to the next phase?\",\n",
    "            \"exitanalysis_funding\": \"Funding\", \n",
    "            \"exitanalysis_catalog\": \"Catalog\", \n",
    "            \"progtemp_linktosourcedoc\": \"Link to source document – must be accessible by someone from outside UNICEF Template in Template links tab\", \n",
    "            \"progtemp_readyfordion\": \"Ready for Dion\", \n",
    "            \"progtemp_completedbydion\": \"Completed by Dion\",\n",
    "            \"progtemp_linktooutputtemplate\": \"Link to output Template in Template links tab\", \n",
    "            \"progtemp_coverphoto\": \"Cover photo identified? (yes/no)\", \n",
    "            \"invent_id\": \"invent_id\", \n",
    "            \"invent_inventid\": \"invent_inventid\", \n",
    "            \"invent_inventurl\": \" INVENT URL\", \n",
    "            \"invent_globalreach\": \"Global reach\" , \n",
    "            \"invent_1mmpeople\": \"1mm+ people reached across multiple countries\" , \n",
    "            \"invent_1mmpeopleallregions\": \"1mm+ people reached across multiple countries across multiple regions\" , \n",
    "            \"invent_opensource\": \"Open source / Frontier tech\" , \n",
    "            \"invent_learninginventment\": \"Learning investment\" , \n",
    "            \"invent_problemstatement\": \"Problem statement(s)\" ,}\n",
    "\n",
    "pcs_sol_df.rename(columns=new_xlsx_cols, inplace=True)\n",
    "pcs_country_df.rename(columns=new_xlsx_cols, inplace=True)\n",
    "\n",
    "#creating solution names tab in xlsx\n",
    "\n",
    "def split_names(x: str):\n",
    "    # splitting solution names \n",
    "    old_name_list,  new_name_list= [],[] \n",
    "    old_name_list = x.split('/')\n",
    "    new_name_list.append(old_name_list[0].strip())\n",
    "    new_name_list.append('/'.join(old_name_list[1:]))\n",
    "    return new_name_list\n",
    "\n",
    "pcs_name_df = pd.DataFrame()\n",
    "pcs_name_df['ID'] = pcs_sol_df['ID']\n",
    "pcs_name_df['name_list'] = pcs_sol_df['Solution Name'].apply(lambda x: split_names(x))\n",
    "pcs_name_df['Solution Name'] = pcs_name_df['name_list'].apply(lambda x: x[0])\n",
    "pcs_name_df['Alias Solution Name'] = pcs_name_df['name_list'].apply(lambda x: x[1])\n",
    "pcs_name_df.drop(columns=['name_list'], inplace=True)"
   ]
  },
  {
   "cell_type": "code",
   "execution_count": 103,
   "metadata": {},
   "outputs": [],
   "source": [
    "# writer = pd.ExcelWriter('./pcs_master.xlsx', engine = 'openpyxl')\n",
    "# pcs_sol_df.to_excel(writer,sheet_name='solution level',index=False)\n",
    "# pcs_country_df.to_excel(writer,sheet_name='country level',index=False)\n",
    "# pcs_sol_df[['ID', 'invent_id', 'invent_inventid']].to_excel(writer,sheet_name='solution invent mapping', index = False)\n",
    "# pcs_name_df.to_excel(writer,sheet_name='solution name alias', index = False)\n",
    "# writer.close()"
   ]
  }
 ],
 "metadata": {
  "kernelspec": {
   "display_name": "unicef_coar",
   "language": "python",
   "name": "python3"
  },
  "language_info": {
   "codemirror_mode": {
    "name": "ipython",
    "version": 3
   },
   "file_extension": ".py",
   "mimetype": "text/x-python",
   "name": "python",
   "nbconvert_exporter": "python",
   "pygments_lexer": "ipython3",
   "version": "3.10.13"
  }
 },
 "nbformat": 4,
 "nbformat_minor": 2
}
