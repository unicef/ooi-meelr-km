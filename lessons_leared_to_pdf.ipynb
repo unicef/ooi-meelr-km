{
 "cells": [
  {
   "cell_type": "code",
   "execution_count": null,
   "metadata": {},
   "outputs": [],
   "source": [
    "import csv \n",
    "# from fpdf import FPDF\n",
    "# !pip install fasttext-langdetect\n",
    "from ftlangdetect import detect"
   ]
  },
  {
   "cell_type": "markdown",
   "metadata": {},
   "source": [
    "Converting .csv file to pretty .pdf:  \n",
    "\n",
    "| REGION_NAME | BUSINESS_AREA_NAME | NarrativeTitle                   | NarrativeText |\n",
    "| ----------- | ------------------ | -------------------------------- | ------------- |\n",
    "| EAPR        | Cambodia           | Lessons Learned and Innovations  | sdfhjsdf      |\n",
    "| EAPR        | China              | Lessons Learned and Innovat ions | aslkdgvj      |  \n",
    "\n",
    "PDF:\n",
    "\n",
    "Year - 2022, Country - Combodia   \n",
    "Lessons learned and Innovations for the country Cambodia in the region EAPR for the year 2022 were as follows:  \n",
    "sdfkljsdf  \n",
    "\n",
    "Year - 2022, Country - China  \n",
    "Lessons learned and Innovations for the country China in the region EAPR for the year 2022 were as follows:  \n",
    "aslkdgvj\n"
   ]
  },
  {
   "cell_type": "code",
   "execution_count": null,
   "metadata": {},
   "outputs": [],
   "source": [
    "file_path = './'\n",
    "file_name = 'RAM3 End-Year Summary Narrative Analysis '\n",
    "file_years = ['2018','2019','2020','2021','2022']\n",
    "\n",
    "for file_year in file_years:\n",
    "    with open(file_path+file_name+file_year+'.csv','r') as file_in:\n",
    "        \n",
    "        reader = csv.reader(file_in, delimiter=',')\n",
    "        next(reader,None) # skip header here.\n",
    "        \n",
    "        with open(file_path+file_name+file_year+'.txt','w') as file_out:\n",
    "            count  = 0\n",
    "            country_name = None\n",
    "            for row in reader:\n",
    "                if row :\n",
    "                    if row[0] == 'HQ': break\n",
    "                \n",
    "                    else:\n",
    "                        country_name = row[1] \n",
    "                        h1 = f'\\n\\nYear - {file_year}, Country - {country_name}.\\n'\n",
    "                        h2 = f'Lessons learned and Innovations for the country {country_name} in the region EAPR for the year {file_year} were as follows:\\n'\n",
    "                        text = row[3]\n",
    "                        text = text.replace('\\n',' ')\n",
    "                        is_en = detect(text = text, low_memory = True)\n",
    "                        if is_en['lang'] =='en' and is_en['score']>=0.85:\n",
    "\n",
    "                            file_out.write(h1)\n",
    "                            file_out.write(h2)\n",
    "                            file_out.write(row[3])\n",
    "\n",
    "            #             pdf.add_page()\n",
    "            #             pdf.cell(200, 10, txt = h1, ln = 1, align = 'L')\n",
    "            #             pdf.cell(200, 10, txt = h2, ln = 1, align = 'L')\n",
    "            #             pdf.cell(200, 10, txt = text, ln = 1, align = 'L')\n",
    "            # pdf.output(file_path+file_name+file_year+\".pdf\")   \n",
    "                \n",
    "                \n",
    "            \n",
    "        "
   ]
  },
  {
   "cell_type": "markdown",
   "metadata": {},
   "source": [
    "## TODO:  \n",
    "* Remove non-eng narratives.\n",
    "* PDF convertion fails at \\u2018 character.\n"
   ]
  }
 ],
 "metadata": {
  "kernelspec": {
   "display_name": "unicef_coar",
   "language": "python",
   "name": "python3"
  },
  "language_info": {
   "codemirror_mode": {
    "name": "ipython",
    "version": 3
   },
   "file_extension": ".py",
   "mimetype": "text/x-python",
   "name": "python",
   "nbconvert_exporter": "python",
   "pygments_lexer": "ipython3",
   "version": "3.11.5"
  }
 },
 "nbformat": 4,
 "nbformat_minor": 2
}
