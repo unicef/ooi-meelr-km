{
 "cells": [
  {
   "cell_type": "code",
   "execution_count": 2,
   "metadata": {},
   "outputs": [],
   "source": [
    "import csv \n",
    "# from fpdf import FPDF\n",
    "# !pip install fasttext-langdetect\n",
    "# from ftlangdetect import detect\n",
    "import seaborn as sns\n",
    "import matplotlib.pyplot as plt"
   ]
  },
  {
   "cell_type": "markdown",
   "metadata": {},
   "source": [
    "# CSV to PDF\n",
    "### No split perfomed"
   ]
  },
  {
   "cell_type": "markdown",
   "metadata": {},
   "source": [
    "Converting .csv file to pretty .pdf:  \n",
    "\n",
    "| REGION_NAME | BUSINESS_AREA_NAME | NarrativeTitle                   | NarrativeText |\n",
    "| ----------- | ------------------ | -------------------------------- | ------------- |\n",
    "| EAPR        | Cambodia           | Lessons Learned and Innovations  | sdfhjsdf      |\n",
    "| EAPR        | China              | Lessons Learned and Innovat ions | aslkdgvj      |  \n",
    "\n",
    "PDF:\n",
    "\n",
    "Year - 2022, Country - Combodia   \n",
    "Lessons learned and Innovations for the country Cambodia in the region EAPR for the year 2022 were as follows:  \n",
    "sdfkljsdf  \n",
    "\n",
    "Year - 2022, Country - China  \n",
    "Lessons learned and Innovations for the country China in the region EAPR for the year 2022 were as follows:  \n",
    "aslkdgvj\n"
   ]
  },
  {
   "cell_type": "code",
   "execution_count": 52,
   "metadata": {},
   "outputs": [],
   "source": [
    "in_file_path = '../Lessons learnt Narrative insights/RAM docs/'\n",
    "out_file_path = '../Lessons learnt Narrative insights/transformed docs/no split/'\n",
    "file_name = 'RAM3 End-Year Summary Narrative Analysis '\n",
    "file_years = ['2018','2019','2020','2021','2022']\n",
    "token_count_dict = {'1 split':0, '2 splits':0 ,'2+ splits':0} \n",
    "one_split_narrs, two_split_narrs = [], []\n",
    "\n",
    "for file_year in file_years:\n",
    "    with open(in_file_path+file_name+file_year+'.csv','r') as file_in:\n",
    "        \n",
    "        reader = csv.reader(file_in, delimiter=',')\n",
    "        next(reader,None) # skip header here.\n",
    "        \n",
    "        with open(out_file_path+file_name+file_year+'.txt','w') as file_out:\n",
    "            count  = 0\n",
    "            country_name = None\n",
    "            for row in reader:\n",
    "                if row :\n",
    "                    if row[0] == 'HQ': break\n",
    "                \n",
    "                    else:\n",
    "                        country_name = row[1] \n",
    "                        h1 = f'\\n\\nYear - {file_year}, Country - {country_name}.\\n'\n",
    "                        h2 = f'Lessons learned and Innovations for the country {country_name} in the region EAPR for the year {file_year} were as follows:\\n'\n",
    "                        text = row[3]\n",
    "                        # '''uncomment the following before running'''\n",
    "                        # text = text.replace('\\n',' ')\n",
    "                        # is_en = detect(text = text, low_memory = True)\n",
    "                        # if is_en['lang'] =='en' and is_en['score']>=0.85:\n",
    "\n",
    "                        #     file_out.write(h1)\n",
    "                        #     file_out.write(h2)\n",
    "                        #     file_out.write(row[3])\n",
    "# '''Expermintal code to save as pdf. '''\n",
    "            #             pdf.add_page()\n",
    "            #             pdf.cell(200, 10, txt = h1, ln = 1, align = 'L')\n",
    "            #             pdf.cell(200, 10, txt = h2, ln = 1, align = 'L')\n",
    "            #             pdf.cell(200, 10, txt = text, ln = 1, align = 'L')\n",
    "            # pdf.output(file_path+file_name+file_year+\".pdf\")   \n",
    "                        '''check count of tokens in each narrative and plot'''\n",
    "                        token_count = len(text.split()) * 1.3 # avg. tokens per word.\n",
    "                        if token_count // 1024 == 0: \n",
    "                            token_count_dict['1 split'] += 1 \n",
    "                            one_split_narrs.append([file_year,country_name])\n",
    "                        elif token_count // 1024 == 1: \n",
    "                            token_count_dict['2 splits'] += 1 \n",
    "                            two_split_narrs.append([file_year,country_name])\n",
    "                        else: token_count_dict['2+ splits'] += 1 \n",
    "                        # y_axis.append(token_count)\n",
    "                        # x_axis.append(i)            "
   ]
  },
  {
   "cell_type": "code",
   "execution_count": 53,
   "metadata": {},
   "outputs": [
    {
     "data": {
      "text/plain": [
       "[Text(0, 0, '98'), Text(0, 0, '433'), Text(0, 0, '56')]"
      ]
     },
     "execution_count": 53,
     "metadata": {},
     "output_type": "execute_result"
    },
    {
     "data": {
      "image/png": "[encoded data removed]",
      "text/plain": [
       "<Figure size 300x300 with 1 Axes>"
      ]
     },
     "metadata": {},
     "output_type": "display_data"
    }
   ],
   "source": [
    "fig,ax = plt.subplots(figsize = (3,3))\n",
    "sns.barplot(data = token_count_dict)\n",
    "ax.bar_label(ax.containers[0], fontsize=10)"
   ]
  },
  {
   "cell_type": "markdown",
   "metadata": {},
   "source": [
    "### Observations:  \n",
    "* The Azure OpenAI API will divide the docs in chunks of 1024 (max if not specified).\n",
    "* Most of the docs will get split into 2 chunks. \n",
    "* Total narrs = 587. En narrs = 554.  \n",
    "* Most docs are having more than 2/2+ splits. \n",
    "    * That means context that I added in the begining will not be carry forwarded.  \n",
    "    * In fact, one split might contain more than one year,country data, messing up the context."
   ]
  },
  {
   "cell_type": "markdown",
   "metadata": {},
   "source": [
    "## TODO:  \n",
    "* (DONE) Remove non-eng narratives.\n",
    "* (CANCELLED) PDF convertion fails at \\u2018 character.\n"
   ]
  },
  {
   "cell_type": "markdown",
   "metadata": {},
   "source": [
    "# Document splitting"
   ]
  },
  {
   "cell_type": "code",
   "execution_count": 1,
   "metadata": {},
   "outputs": [],
   "source": [
    "import csv \n",
    "import tqdm\n",
    "from langchain.text_splitter import RecursiveCharacterTextSplitter\n",
    "from langchain.vectorstores import Chroma\n",
    "from langchain.embeddings.sentence_transformer import SentenceTransformerEmbeddings\n"
   ]
  },
  {
   "cell_type": "code",
   "execution_count": 2,
   "metadata": {},
   "outputs": [],
   "source": [
    "in_file_path = '../Lessons learnt Narrative insights/RAM docs/'\n",
    "out_file_path = '../Lessons learnt Narrative insights/transformed docs/with split/'\n",
    "file_name = 'RAM3 End-Year Summary Narrative Analysis '\n",
    "file_years = ['2018','2019','2020','2021','2022']"
   ]
  },
  {
   "cell_type": "code",
   "execution_count": 4,
   "metadata": {},
   "outputs": [
    {
     "name": "stderr",
     "output_type": "stream",
     "text": [
      "csv.reader loop: 128it [04:19,  2.03s/it] ?it/s]\n",
      "csv.reader loop: 128it [02:54,  1.36s/it]:18, 259.60s/it]\n",
      "csv.reader loop: 135it [03:13,  1.43s/it]:28, 209.65s/it]\n",
      "csv.reader loop: 135it [03:25,  1.53s/it]:44, 202.21s/it]\n",
      "csv.reader loop: 61it [01:20,  1.31s/it]3:23, 203.68s/it]\n",
      "year loop: 100%|██████████| 5/5 [15:13<00:00, 182.72s/it]\n"
     ]
    }
   ],
   "source": [
    "text_splitter = RecursiveCharacterTextSplitter(\n",
    "# Set a really small chunk size, just to show.\n",
    "chunk_size = 500,\n",
    "chunk_overlap  = 20,\n",
    "length_function = len,\n",
    "add_start_index = True,\n",
    ")\n",
    "\n",
    "embedding_function = SentenceTransformerEmbeddings(model_name=\"all-MiniLM-L6-v2\")\n",
    "\n",
    "\n",
    "for file_year in tqdm.tqdm(file_years, desc='year loop', position=0):\n",
    "    with open(in_file_path+file_name+file_year+'.csv','r') as file_in:\n",
    "        \n",
    "        reader = csv.reader(file_in, delimiter=',')\n",
    "        next(reader,None) # skip header here.\n",
    "        \n",
    "        country_name = None\n",
    "        for row in tqdm.tqdm(reader, desc= 'csv.reader loop', position=1):\n",
    "            if not row : break\n",
    "            if row[0] == 'HQ': break\n",
    "\n",
    "            region_name = row[0]\n",
    "            country_name = row[1] \n",
    "            # h1 = f'\\n\\nYear - {file_year}, Country - {country_name}.\\n'\n",
    "            # h2 = f'Lessons learned and Innovations for the country {country_name} in the region EAPR for the year {file_year} were as follows:\\n'\n",
    "            text = row[3]\n",
    "        \n",
    "            \"\"\"uncomment the following before running\"\"\"\n",
    "            # text = text.replace('\\n',' ')\n",
    "            # is_en = detect(text = text, low_memory = True)\n",
    "            # if is_en['lang'] =='en' and is_en['score']>=0.85:\n",
    "            metadata = {\n",
    "                'year' : file_year,\n",
    "                'region_name' : region_name,\n",
    "                'country_name' : country_name\n",
    "            }\n",
    "            splits = text_splitter.create_documents([text], metadatas=[metadata])\n",
    "            db = Chroma.from_documents(splits, embedding_function, persist_directory=\"./chroma_db\")\n",
    "            \n",
    "            # for i, split in enumerate(splits):\n",
    "            #     print(type(split),split)\n",
    "            #     db = Chroma.from_documents(split, embedding_function, persist_directory=\"./chroma_db\", ids= f'{file_year} {country_name} {i+1}' )\n",
    "                # with open(out_file_path+file_name+file_year+str(i+1)+'.txt','w') as file_out:\n",
    "                #     file_out.write(split)\n",
    "                    "
   ]
  },
  {
   "cell_type": "code",
   "execution_count": 8,
   "metadata": {},
   "outputs": [
    {
     "name": "stdout",
     "output_type": "stream",
     "text": [
      "{'country_name': 'Burundi', 'region_name': 'ESAR', 'start_index': 483, 'year': '2020'} as well as access to its markets, while UNICEF provided financial assets, facilitated stakeholder dialogues and did the advocacy work. This dynamic suggests that partnerships between humanitarian/development organizations and private enterprises could play an important role in achieving a set of common objectives. Despite having different interests and objectives, by pooling complementary capacities and resources, the collaboration had the desired outcome. Hence UNICEF is exploring other models\n",
      "{'country_name': 'Jamaica', 'region_name': 'LACR', 'start_index': 1, 'year': '2018'} Establish the grounds for scalability and sustainability of UNICEF interventions\n",
      "{'country_name': 'Malaysia', 'region_name': 'EAPR', 'start_index': 2151, 'year': '2021'} model for integrating innovation into UNICEF programming.\n",
      "{'country_name': 'Ethiopia', 'region_name': 'ESAR', 'start_index': 477, 'year': '2018'} due to structural weaknesses exposed in established systems in various sectors. This required high-level advocacy, adapted service models for remote populations, integrated commodity supply chains, flexible staff deployment and surge budgets, and emergency preparedness planning. In particular, UNICEF highlighted the impact of humanitarian crises on children, with key messages disseminated through social and mainstream media and donor visits, resulting in needed funding for humanitarian\n"
     ]
    }
   ],
   "source": [
    "retriever = db.as_retriever(persist_directory=\"./chroma_db\", search_type=\"mmr\")\n",
    "docs = retriever.get_relevant_documents(\"What was UNICEF's role in building scalable business model for innovations in humanitarian setting?\")\n",
    "\n",
    "for doc in docs:\n",
    "    print(doc.metadata, doc.page_content)"
   ]
  },
  {
   "cell_type": "code",
   "execution_count": 10,
   "metadata": {},
   "outputs": [
    {
     "name": "stdout",
     "output_type": "stream",
     "text": [
      "{'country_name': 'Burundi', 'region_name': 'ESAR', 'start_index': 483, 'year': '2020'} as well as access to its markets, while UNICEF provided financial assets, facilitated stakeholder dialogues and did the advocacy work. This dynamic suggests that partnerships between humanitarian/development organizations and private enterprises could play an important role in achieving a set of common objectives. Despite having different interests and objectives, by pooling complementary capacities and resources, the collaboration had the desired outcome. Hence UNICEF is exploring other models\n",
      "{'country_name': 'Jamaica', 'region_name': 'LACR', 'start_index': 1, 'year': '2018'} Establish the grounds for scalability and sustainability of UNICEF interventions\n",
      "{'country_name': 'Malaysia', 'region_name': 'EAPR', 'start_index': 2151, 'year': '2021'} model for integrating innovation into UNICEF programming.\n",
      "{'country_name': 'Zambia', 'region_name': 'ESAR', 'start_index': 3804, 'year': '2019'} approach). UNICEF was agile and innovative in 2019 and took measures to increase capacities (human resource and financial) to respond to the increased need for responding to humanitarian situations affecting children in Zambia, including through effective use of Regular Resources. The UNICEF approach has been to build on the development-humanitarian nexus and develop capacity of national sector systems to be able to manage and respond to emergencies and withstand shocks. An example is the\n",
      "{'country_name': 'Palestine, State of', 'region_name': 'MENAR', 'start_index': 757, 'year': '2019'} Increased vulnerabilities in a context fraught with complexities, including diminished financial resources of the PA, the persistent Palestinian-divide, shrinking operational-space for civil society organizations, pushed UNICEF to step-up its resource mobilization efforts and partnerships to preserve previous gains and sharpen focus in meeting the growing development and humanitarian needs. Thus, UNICEF has been able to win the engagement and commitment of several national and international\n"
     ]
    }
   ],
   "source": [
    "retriever = db.as_retriever(search_kwargs={\"k\": 5})\n",
    "docs = retriever.get_relevant_documents(\"What was UNICEF's role in building scalable business model for innovations in humanitarian setting?\")\n",
    "\n",
    "for doc in docs:\n",
    "    print(doc.metadata, doc.page_content)"
   ]
  },
  {
   "cell_type": "code",
   "execution_count": 11,
   "metadata": {},
   "outputs": [
    {
     "name": "stdout",
     "output_type": "stream",
     "text": [
      "{'country_name': 'Burundi', 'region_name': 'ESAR', 'start_index': 483, 'year': '2020'} as well as access to its markets, while UNICEF provided financial assets, facilitated stakeholder dialogues and did the advocacy work. This dynamic suggests that partnerships between humanitarian/development organizations and private enterprises could play an important role in achieving a set of common objectives. Despite having different interests and objectives, by pooling complementary capacities and resources, the collaboration had the desired outcome. Hence UNICEF is exploring other models\n",
      "{'country_name': 'Jamaica', 'region_name': 'LACR', 'start_index': 1, 'year': '2018'} Establish the grounds for scalability and sustainability of UNICEF interventions\n",
      "{'country_name': 'Malaysia', 'region_name': 'EAPR', 'start_index': 2151, 'year': '2021'} model for integrating innovation into UNICEF programming.\n",
      "{'country_name': 'Zambia', 'region_name': 'ESAR', 'start_index': 3804, 'year': '2019'} approach). UNICEF was agile and innovative in 2019 and took measures to increase capacities (human resource and financial) to respond to the increased need for responding to humanitarian situations affecting children in Zambia, including through effective use of Regular Resources. The UNICEF approach has been to build on the development-humanitarian nexus and develop capacity of national sector systems to be able to manage and respond to emergencies and withstand shocks. An example is the\n"
     ]
    }
   ],
   "source": [
    "retriever = db.as_retriever(search_type=\"similarity_score_threshold\", search_kwargs={\"score_threshold\": .5})\n",
    "docs = retriever.get_relevant_documents(\"What was UNICEF's role in building scalable business model for innovations in humanitarian setting?\")\n",
    "\n",
    "for doc in docs:\n",
    "    print(doc.metadata, doc.page_content)"
   ]
  },
  {
   "cell_type": "markdown",
   "metadata": {},
   "source": [
    "### Observations:  \n",
    "* creating vector db took ~18 mins.\n",
    "* Vector db size = ~60-90 MB.\n",
    "* Brundi, Jamaica is again at the top like we got in AI playground."
   ]
  },
  {
   "cell_type": "markdown",
   "metadata": {},
   "source": [
    "## TODO:  \n",
    "* (DONE) add metadata to splits. \n",
    "    * Why? metadata is useful only when LLM is being used. Can our retriver make use of this metadata?\n",
    "* improve document splitting.\n",
    "* count docs retrived per year, per country, per region."
   ]
  }
 ],
 "metadata": {
  "kernelspec": {
   "display_name": "unicef_coar",
   "language": "python",
   "name": "python3"
  },
  "language_info": {
   "codemirror_mode": {
    "name": "ipython",
    "version": 3
   },
   "file_extension": ".py",
   "mimetype": "text/x-python",
   "name": "python",
   "nbconvert_exporter": "python",
   "pygments_lexer": "ipython3",
   "version": "3.10.13"
  }
 },
 "nbformat": 4,
 "nbformat_minor": 2
}
