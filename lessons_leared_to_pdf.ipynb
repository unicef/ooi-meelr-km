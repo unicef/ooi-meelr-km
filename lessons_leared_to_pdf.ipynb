{
 "cells": [
  {
   "cell_type": "code",
   "execution_count": 16,
   "metadata": {},
   "outputs": [],
   "source": [
    "import csv \n",
    "from fpdf import FPDF"
   ]
  },
  {
   "cell_type": "markdown",
   "metadata": {},
   "source": [
    "Converting .csv file to pretty .pdf:  \n",
    "\n",
    "| REGION_NAME | BUSINESS_AREA_NAME | NarrativeTitle                   | NarrativeText |\n",
    "| ----------- | ------------------ | -------------------------------- | ------------- |\n",
    "| EAPR        | Cambodia           | Lessons Learned and Innovations  | sdfhjsdf      |\n",
    "| EAPR        | China              | Lessons Learned and Innovat ions | aslkdgvj      |  \n",
    "\n",
    "PDF:\n",
    "\n",
    "Year - 2022, Country - Combodia   \n",
    "Lessons learned and Innovations for the country Cambodia in the region EAPR for the year 2022 were as follows:  \n",
    "sdfkljsdf  \n",
    "\n",
    "Year - 2022, Country - China  \n",
    "Lessons learned and Innovations for the country China in the region EAPR for the year 2022 were as follows:  \n",
    "aslkdgvj\n"
   ]
  },
  {
   "cell_type": "code",
   "execution_count": 18,
   "metadata": {},
   "outputs": [
    {
     "ename": "UnicodeEncodeError",
     "evalue": "'latin-1' codec can't encode character '\\u2018' in position 401: ordinal not in range(256)",
     "output_type": "error",
     "traceback": [
      "\u001b[1;31m---------------------------------------------------------------------------\u001b[0m",
      "\u001b[1;31mUnicodeEncodeError\u001b[0m                        Traceback (most recent call last)",
      "\u001b[1;32me:\\UNICEF\\Lessons learnt Narrative insights\\lessons_leared_to_pdf.ipynb Cell 3\u001b[0m line \u001b[0;36m3\n\u001b[0;32m     <a href='vscode-notebook-cell:/e%3A/UNICEF/Lessons%20learnt%20Narrative%20insights/lessons_leared_to_pdf.ipynb#W2sZmlsZQ%3D%3D?line=29'>30</a>\u001b[0m             pdf\u001b[39m.\u001b[39mcell(\u001b[39m200\u001b[39m, \u001b[39m10\u001b[39m, txt \u001b[39m=\u001b[39m h2, ln \u001b[39m=\u001b[39m \u001b[39m1\u001b[39m, align \u001b[39m=\u001b[39m \u001b[39m'\u001b[39m\u001b[39mL\u001b[39m\u001b[39m'\u001b[39m)\n\u001b[0;32m     <a href='vscode-notebook-cell:/e%3A/UNICEF/Lessons%20learnt%20Narrative%20insights/lessons_leared_to_pdf.ipynb#W2sZmlsZQ%3D%3D?line=30'>31</a>\u001b[0m             pdf\u001b[39m.\u001b[39mcell(\u001b[39m200\u001b[39m, \u001b[39m10\u001b[39m, txt \u001b[39m=\u001b[39m text, ln \u001b[39m=\u001b[39m \u001b[39m1\u001b[39m, align \u001b[39m=\u001b[39m \u001b[39m'\u001b[39m\u001b[39mL\u001b[39m\u001b[39m'\u001b[39m)\n\u001b[1;32m---> <a href='vscode-notebook-cell:/e%3A/UNICEF/Lessons%20learnt%20Narrative%20insights/lessons_leared_to_pdf.ipynb#W2sZmlsZQ%3D%3D?line=31'>32</a>\u001b[0m pdf\u001b[39m.\u001b[39;49moutput(file_path\u001b[39m+\u001b[39;49mfile_name\u001b[39m+\u001b[39;49mfile_year\u001b[39m+\u001b[39;49m\u001b[39m\"\u001b[39;49m\u001b[39m.pdf\u001b[39;49m\u001b[39m\"\u001b[39;49m)   \n",
      "File \u001b[1;32md:\\anaconda3\\envs\\unicef_coar\\Lib\\site-packages\\fpdf\\fpdf.py:1065\u001b[0m, in \u001b[0;36mFPDF.output\u001b[1;34m(self, name, dest)\u001b[0m\n\u001b[0;32m   1063\u001b[0m \u001b[39m#Finish document if necessary\u001b[39;00m\n\u001b[0;32m   1064\u001b[0m \u001b[39mif\u001b[39;00m(\u001b[39mself\u001b[39m\u001b[39m.\u001b[39mstate\u001b[39m<\u001b[39m\u001b[39m3\u001b[39m):\n\u001b[1;32m-> 1065\u001b[0m     \u001b[39mself\u001b[39;49m\u001b[39m.\u001b[39;49mclose()\n\u001b[0;32m   1066\u001b[0m dest\u001b[39m=\u001b[39mdest\u001b[39m.\u001b[39mupper()\n\u001b[0;32m   1067\u001b[0m \u001b[39mif\u001b[39;00m(dest\u001b[39m==\u001b[39m\u001b[39m'\u001b[39m\u001b[39m'\u001b[39m):\n",
      "File \u001b[1;32md:\\anaconda3\\envs\\unicef_coar\\Lib\\site-packages\\fpdf\\fpdf.py:246\u001b[0m, in \u001b[0;36mFPDF.close\u001b[1;34m(self)\u001b[0m\n\u001b[0;32m    244\u001b[0m \u001b[39mself\u001b[39m\u001b[39m.\u001b[39m_endpage()\n\u001b[0;32m    245\u001b[0m \u001b[39m#close document\u001b[39;00m\n\u001b[1;32m--> 246\u001b[0m \u001b[39mself\u001b[39;49m\u001b[39m.\u001b[39;49m_enddoc()\n",
      "File \u001b[1;32md:\\anaconda3\\envs\\unicef_coar\\Lib\\site-packages\\fpdf\\fpdf.py:1636\u001b[0m, in \u001b[0;36mFPDF._enddoc\u001b[1;34m(self)\u001b[0m\n\u001b[0;32m   1634\u001b[0m \u001b[39mdef\u001b[39;00m \u001b[39m_enddoc\u001b[39m(\u001b[39mself\u001b[39m):\n\u001b[0;32m   1635\u001b[0m     \u001b[39mself\u001b[39m\u001b[39m.\u001b[39m_putheader()\n\u001b[1;32m-> 1636\u001b[0m     \u001b[39mself\u001b[39;49m\u001b[39m.\u001b[39;49m_putpages()\n\u001b[0;32m   1637\u001b[0m     \u001b[39mself\u001b[39m\u001b[39m.\u001b[39m_putresources()\n\u001b[0;32m   1638\u001b[0m     \u001b[39m#Info\u001b[39;00m\n",
      "File \u001b[1;32md:\\anaconda3\\envs\\unicef_coar\\Lib\\site-packages\\fpdf\\fpdf.py:1170\u001b[0m, in \u001b[0;36mFPDF._putpages\u001b[1;34m(self)\u001b[0m\n\u001b[0;32m   1167\u001b[0m \u001b[39m#Page content\u001b[39;00m\n\u001b[0;32m   1168\u001b[0m \u001b[39mif\u001b[39;00m \u001b[39mself\u001b[39m\u001b[39m.\u001b[39mcompress:\n\u001b[0;32m   1169\u001b[0m     \u001b[39m# manage binary data as latin1 until PEP461 or similar is implemented\u001b[39;00m\n\u001b[1;32m-> 1170\u001b[0m     p \u001b[39m=\u001b[39m \u001b[39mself\u001b[39;49m\u001b[39m.\u001b[39;49mpages[n]\u001b[39m.\u001b[39;49mencode(\u001b[39m\"\u001b[39;49m\u001b[39mlatin1\u001b[39;49m\u001b[39m\"\u001b[39;49m) \u001b[39mif\u001b[39;00m PY3K \u001b[39melse\u001b[39;00m \u001b[39mself\u001b[39m\u001b[39m.\u001b[39mpages[n] \n\u001b[0;32m   1171\u001b[0m     p \u001b[39m=\u001b[39m zlib\u001b[39m.\u001b[39mcompress(p)\n\u001b[0;32m   1172\u001b[0m \u001b[39melse\u001b[39;00m:\n",
      "\u001b[1;31mUnicodeEncodeError\u001b[0m: 'latin-1' codec can't encode character '\\u2018' in position 401: ordinal not in range(256)"
     ]
    }
   ],
   "source": [
    "file_path = './'\n",
    "file_name = 'RAM3 End-Year Summary Narrative Analysis '\n",
    "file_years = ['2018','2019','2020','2021','2022']\n",
    "\n",
    "for file_year in file_years:\n",
    "    with open(file_path+file_name+file_year+'.csv','r') as file_in:\n",
    "        \n",
    "        reader = csv.reader(file_in, delimiter=',')\n",
    "        next(reader,None) # skip header here.\n",
    "        \n",
    "        with open(file_path+file_name+file_year+'.txt','w') as file_out:\n",
    "            count  = 0\n",
    "            country_name = None\n",
    "            for row in reader:\n",
    "                if row :\n",
    "                    if row[0] == 'HQ': break\n",
    "                \n",
    "                    else:\n",
    "                        country_name = row[1] \n",
    "                        h1 = f'\\n\\nYear - {file_year}, Country - {country_name}.\\n'\n",
    "                        h2 = f'Lessons learned and Innovations for the country {country_name} in the region EAPR for the year {file_year} were as follows:\\n'\n",
    "                        text = row[3]\n",
    "                        file_out.write(h1)\n",
    "                        file_out.write(h2)\n",
    "                        file_out.write(row[3])\n",
    "\n",
    "            #             pdf.add_page()\n",
    "            #             pdf.cell(200, 10, txt = h1, ln = 1, align = 'L')\n",
    "            #             pdf.cell(200, 10, txt = h2, ln = 1, align = 'L')\n",
    "            #             pdf.cell(200, 10, txt = text, ln = 1, align = 'L')\n",
    "            # pdf.output(file_path+file_name+file_year+\".pdf\")   \n",
    "                \n",
    "                \n",
    "            \n",
    "        "
   ]
  },
  {
   "cell_type": "markdown",
   "metadata": {},
   "source": [
    "## TODO:  \n",
    "* Remove non-eng narratives.\n",
    "* PDF convertion fails at \\u2018 character.\n"
   ]
  }
 ],
 "metadata": {
  "kernelspec": {
   "display_name": "unicef_coar",
   "language": "python",
   "name": "python3"
  },
  "language_info": {
   "codemirror_mode": {
    "name": "ipython",
    "version": 3
   },
   "file_extension": ".py",
   "mimetype": "text/x-python",
   "name": "python",
   "nbconvert_exporter": "python",
   "pygments_lexer": "ipython3",
   "version": "3.11.5"
  }
 },
 "nbformat": 4,
 "nbformat_minor": 2
}
